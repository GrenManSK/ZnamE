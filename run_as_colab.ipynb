{
 "cells": [
  {
   "cell_type": "code",
   "execution_count": 3,
   "metadata": {},
   "outputs": [
    {
     "name": "stdout",
     "output_type": "stream",
     "text": [
      "Requirement already satisfied: Brotli==1.0.9 in c:\\users\\richard\\miniconda3\\lib\\site-packages (from -r requirements.txt (line 1)) (1.0.9)\n",
      "Requirement already satisfied: certifi==2023.5.7 in c:\\users\\richard\\miniconda3\\lib\\site-packages (from -r requirements.txt (line 2)) (2023.5.7)\n",
      "Requirement already satisfied: charset-normalizer==3.1.0 in c:\\users\\richard\\miniconda3\\lib\\site-packages (from -r requirements.txt (line 3)) (3.1.0)\n",
      "Requirement already satisfied: click==8.1.3 in c:\\users\\richard\\miniconda3\\lib\\site-packages (from -r requirements.txt (line 4)) (8.1.3)\n",
      "Requirement already satisfied: commonmark==0.9.1 in c:\\users\\richard\\miniconda3\\lib\\site-packages (from -r requirements.txt (line 5)) (0.9.1)\n",
      "Requirement already satisfied: GPUtil==1.4.0 in c:\\users\\richard\\miniconda3\\lib\\site-packages (from -r requirements.txt (line 6)) (1.4.0)\n",
      "Requirement already satisfied: idna==3.4 in c:\\users\\richard\\miniconda3\\lib\\site-packages (from -r requirements.txt (line 7)) (3.4)\n",
      "Requirement already satisfied: keyboard==0.13.5 in c:\\users\\richard\\miniconda3\\lib\\site-packages (from -r requirements.txt (line 8)) (0.13.5)\n",
      "Requirement already satisfied: lxml==4.9.2 in c:\\users\\richard\\miniconda3\\lib\\site-packages (from -r requirements.txt (line 9)) (4.9.2)\n",
      "Requirement already satisfied: moviepy>=1.0.3 in c:\\users\\richard\\miniconda3\\lib\\site-packages (from -r requirements.txt (line 10)) (1.0.3)\n",
      "Requirement already satisfied: mutagen==1.46.0 in c:\\users\\richard\\miniconda3\\lib\\site-packages (from -r requirements.txt (line 11)) (1.46.0)\n",
      "Requirement already satisfied: numpy>=1.22.2 in c:\\users\\richard\\miniconda3\\lib\\site-packages (from -r requirements.txt (line 12)) (1.24.2)\n",
      "Requirement already satisfied: opencv_python>=4.7.0.7 in c:\\users\\richard\\miniconda3\\lib\\site-packages (from -r requirements.txt (line 13)) (4.7.0.72)\n",
      "Requirement already satisfied: Pillow>=9.3.0 in c:\\users\\richard\\miniconda3\\lib\\site-packages (from -r requirements.txt (line 14)) (9.4.0)\n",
      "Requirement already satisfied: psutil>=5.9.4 in c:\\users\\richard\\miniconda3\\lib\\site-packages (from -r requirements.txt (line 15)) (5.9.4)\n",
      "Requirement already satisfied: PyAutoGUI>=0.9.53 in c:\\users\\richard\\miniconda3\\lib\\site-packages (from -r requirements.txt (line 16)) (0.9.53)\n",
      "Requirement already satisfied: pygame>=2.1.2 in c:\\users\\richard\\miniconda3\\lib\\site-packages (from -r requirements.txt (line 17)) (2.2.0)\n",
      "Requirement already satisfied: PyGetWindow>=0.0.9 in c:\\users\\richard\\miniconda3\\lib\\site-packages (from -r requirements.txt (line 18)) (0.0.9)\n",
      "Requirement already satisfied: python_vlc>=3.0.16120 in c:\\users\\richard\\miniconda3\\lib\\site-packages (from -r requirements.txt (line 19)) (3.0.18121)\n",
      "Requirement already satisfied: pywin32>=305 in c:\\users\\richard\\miniconda3\\lib\\site-packages (from -r requirements.txt (line 20)) (305.1)\n",
      "Requirement already satisfied: pywinauto>=0.6.8 in c:\\users\\richard\\miniconda3\\lib\\site-packages (from -r requirements.txt (line 21)) (0.6.8)\n",
      "Requirement already satisfied: PyYAML>=6.0 in c:\\users\\richard\\miniconda3\\lib\\site-packages (from -r requirements.txt (line 22)) (6.0)\n",
      "Requirement already satisfied: python-dotenv>=1.0.0 in c:\\users\\richard\\miniconda3\\lib\\site-packages (from -r requirements.txt (line 23)) (1.0.0)\n",
      "Requirement already satisfied: pycryptodomex==3.18.0 in c:\\users\\richard\\miniconda3\\lib\\site-packages (from -r requirements.txt (line 24)) (3.18.0)\n",
      "Requirement already satisfied: py_cpuinfo==9.0.0 in c:\\users\\richard\\miniconda3\\lib\\site-packages (from -r requirements.txt (line 25)) (9.0.0)\n",
      "Requirement already satisfied: Pygments==2.15.1 in c:\\users\\richard\\miniconda3\\lib\\site-packages (from -r requirements.txt (line 27)) (2.15.1)\n",
      "Requirement already satisfied: requests>=2.29.0 in c:\\users\\richard\\miniconda3\\lib\\site-packages (from -r requirements.txt (line 28)) (2.30.0)\n",
      "Requirement already satisfied: rich==13.3.5 in c:\\users\\richard\\miniconda3\\lib\\site-packages (from -r requirements.txt (line 29)) (13.3.5)\n",
      "Requirement already satisfied: semantic_version>=2.10.0 in c:\\users\\richard\\miniconda3\\lib\\site-packages (from -r requirements.txt (line 30)) (2.10.0)\n",
      "Requirement already satisfied: setuptools>=49.2.1 in c:\\users\\richard\\miniconda3\\lib\\site-packages (from -r requirements.txt (line 31)) (65.6.3)\n",
      "Requirement already satisfied: shellingham==1.5.0.post1 in c:\\users\\richard\\miniconda3\\lib\\site-packages (from -r requirements.txt (line 32)) (1.5.0.post1)\n",
      "Requirement already satisfied: tabulate==0.9.0 in c:\\users\\richard\\miniconda3\\lib\\site-packages (from -r requirements.txt (line 33)) (0.9.0)\n",
      "Requirement already satisfied: tqdm>=4.64.1 in c:\\users\\richard\\miniconda3\\lib\\site-packages (from -r requirements.txt (line 34)) (4.64.1)\n",
      "Requirement already satisfied: typer==0.9.0 in c:\\users\\richard\\miniconda3\\lib\\site-packages (from -r requirements.txt (line 35)) (0.9.0)\n",
      "Requirement already satisfied: typing==3.7.4.3 in c:\\users\\richard\\miniconda3\\lib\\site-packages (from -r requirements.txt (line 36)) (3.7.4.3)\n",
      "Requirement already satisfied: yt-dlp==2023.3.4 in c:\\users\\richard\\miniconda3\\lib\\site-packages (from -r requirements.txt (line 37)) (2023.3.4)\n",
      "Requirement already satisfied: WMI>=1.5.1 in c:\\users\\richard\\miniconda3\\lib\\site-packages (from -r requirements.txt (line 38)) (1.5.1)\n",
      "Requirement already satisfied: colorama in c:\\users\\richard\\miniconda3\\lib\\site-packages (from click==8.1.3->-r requirements.txt (line 4)) (0.4.6)\n",
      "Requirement already satisfied: markdown-it-py<3.0.0,>=2.2.0 in c:\\users\\richard\\miniconda3\\lib\\site-packages (from rich==13.3.5->-r requirements.txt (line 29)) (2.2.0)\n",
      "Requirement already satisfied: typing-extensions>=3.7.4.3 in c:\\users\\richard\\miniconda3\\lib\\site-packages (from typer==0.9.0->-r requirements.txt (line 35)) (4.5.0)\n",
      "Requirement already satisfied: websockets in c:\\users\\richard\\miniconda3\\lib\\site-packages (from yt-dlp==2023.3.4->-r requirements.txt (line 37)) (10.4)\n",
      "Requirement already satisfied: decorator<5.0,>=4.0.2 in c:\\users\\richard\\miniconda3\\lib\\site-packages (from moviepy>=1.0.3->-r requirements.txt (line 10)) (4.4.2)\n",
      "Requirement already satisfied: imageio<3.0,>=2.5 in c:\\users\\richard\\miniconda3\\lib\\site-packages (from moviepy>=1.0.3->-r requirements.txt (line 10)) (2.25.1)\n",
      "Requirement already satisfied: proglog<=1.0.0 in c:\\users\\richard\\miniconda3\\lib\\site-packages (from moviepy>=1.0.3->-r requirements.txt (line 10)) (0.1.10)\n",
      "Requirement already satisfied: imageio-ffmpeg>=0.2.0 in c:\\users\\richard\\miniconda3\\lib\\site-packages (from moviepy>=1.0.3->-r requirements.txt (line 10)) (0.4.8)\n",
      "Requirement already satisfied: pymsgbox in c:\\users\\richard\\miniconda3\\lib\\site-packages (from PyAutoGUI>=0.9.53->-r requirements.txt (line 16)) (1.0.9)\n",
      "Requirement already satisfied: mouseinfo in c:\\users\\richard\\miniconda3\\lib\\site-packages (from PyAutoGUI>=0.9.53->-r requirements.txt (line 16)) (0.1.3)\n",
      "Requirement already satisfied: PyTweening>=1.0.1 in c:\\users\\richard\\miniconda3\\lib\\site-packages (from PyAutoGUI>=0.9.53->-r requirements.txt (line 16)) (1.0.4)\n",
      "Requirement already satisfied: pyscreeze>=0.1.21 in c:\\users\\richard\\miniconda3\\lib\\site-packages (from PyAutoGUI>=0.9.53->-r requirements.txt (line 16)) (0.1.28)\n",
      "Requirement already satisfied: pyrect in c:\\users\\richard\\miniconda3\\lib\\site-packages (from PyGetWindow>=0.0.9->-r requirements.txt (line 18)) (0.2.0)\n",
      "Requirement already satisfied: six in c:\\users\\richard\\miniconda3\\lib\\site-packages (from pywinauto>=0.6.8->-r requirements.txt (line 21)) (1.16.0)\n",
      "Requirement already satisfied: comtypes in c:\\users\\richard\\miniconda3\\lib\\site-packages (from pywinauto>=0.6.8->-r requirements.txt (line 21)) (1.1.14)\n",
      "Requirement already satisfied: urllib3<3,>=1.21.1 in c:\\users\\richard\\miniconda3\\lib\\site-packages (from requests>=2.29.0->-r requirements.txt (line 28)) (2.0.2)\n",
      "Requirement already satisfied: mdurl~=0.1 in c:\\users\\richard\\miniconda3\\lib\\site-packages (from markdown-it-py<3.0.0,>=2.2.0->rich==13.3.5->-r requirements.txt (line 29)) (0.1.2)\n",
      "Requirement already satisfied: pyperclip in c:\\users\\richard\\miniconda3\\lib\\site-packages (from mouseinfo->PyAutoGUI>=0.9.53->-r requirements.txt (line 16)) (1.8.2)\n"
     ]
    }
   ],
   "source": [
    "!pip install -r requirements.txt"
   ]
  },
  {
   "cell_type": "code",
   "execution_count": 4,
   "metadata": {},
   "outputs": [
    {
     "name": "stdout",
     "output_type": "stream",
     "text": [
      "\n",
      "Starting to extract\n",
      "\n"
     ]
    },
    {
     "name": "stderr",
     "output_type": "stream",
     "text": [
      "Extracting :   0%|          | 0/23 [00:00<?, ?it/s]"
     ]
    },
    {
     "name": "stdout",
     "output_type": "stream",
     "text": [
      "tests.py(4535B)\n",
      "xp3.py(6308B)\n",
      "xp3reader.py(1306B)\n",
      "xp3writer.py(5875B)\n"
     ]
    },
    {
     "name": "stderr",
     "output_type": "stream",
     "text": [
      "Extracting :  22%|██▏       | 5/23 [00:00<00:00, 40.17it/s]"
     ]
    },
    {
     "name": "stdout",
     "output_type": "stream",
     "text": [
      "data.xp3(36268593B)\n",
      "constants.py(173B)\n"
     ]
    },
    {
     "name": "stderr",
     "output_type": "stream",
     "text": [
      "Extracting :  22%|██▏       | 5/23 [00:00<00:00, 40.17it/s]"
     ]
    },
    {
     "name": "stdout",
     "output_type": "stream",
     "text": [
      "encryption_parameters.py(402B)\n",
      "file.py(4887B)\n"
     ]
    },
    {
     "name": "stderr",
     "output_type": "stream",
     "text": [
      "Extracting :  22%|██▏       | 5/23 [00:00<00:00, 40.17it/s]"
     ]
    },
    {
     "name": "stdout",
     "output_type": "stream",
     "text": [
      "file_entry.py(8645B)\n",
      "file_index.py(4190B)\n"
     ]
    },
    {
     "name": "stderr",
     "output_type": "stream",
     "text": [
      "                                                           \r"
     ]
    },
    {
     "name": "stdout",
     "output_type": "stream",
     "text": [
      "__init__.py(269B)\n"
     ]
    },
    {
     "name": "stderr",
     "output_type": "stream",
     "text": [
      "Extracting : 100%|██████████| 23/23 [00:00<00:00, 82.14it/s]"
     ]
    },
    {
     "name": "stdout",
     "output_type": "stream",
     "text": [
      "constants.cpython-311.pyc(359B)\n",
      "constants.cpython-39.pyc(324B)\n",
      "encryption_parameters.cpython-311.pyc(405B)\n",
      "encryption_parameters.cpython-39.pyc(371B)\n",
      "file.cpython-311.pyc(7104B)\n",
      "file.cpython-39.pyc(3766B)\n",
      "file_entry.cpython-311.pyc(17427B)\n",
      "file_entry.cpython-39.pyc(9867B)\n",
      "file_index.cpython-311.pyc(8759B)\n",
      "file_index.cpython-39.pyc(4715B)\n",
      "__init__.cpython-311.pyc(617B)\n",
      "__init__.cpython-39.pyc(491B)\n",
      "Done\n",
      "\n",
      "Un"
     ]
    },
    {
     "name": "stderr",
     "output_type": "stream",
     "text": [
      "\n"
     ]
    },
    {
     "name": "stdout",
     "output_type": "stream",
     "text": [
      "packing second part...\n",
      "\n",
      "\n",
      "Done\n",
      "\n",
      "Initialization VLC\n",
      "\n",
      "END\n",
      "\n",
      "You're using ZnámE v2.5.0-alpha+build.20230518.195126\n",
      "\n",
      "|DELETING UNNECESSARY FILES\n",
      "Writing history\n",
      "\n",
      "|____________________________________________________\n",
      "    |12-04-15 24-05-2023__time__12-04-28['[1, quit]']\n",
      "\n",
      "____|____________________________________________________\n",
      "|Done\n",
      "\n",
      "|PACKING DATA\n",
      "\n",
      "|COMPLETE\n",
      "|PACKING SECOND PART OF DATA\n",
      "|____________________________________________________\n",
      "    |\n"
     ]
    },
    {
     "name": "stderr",
     "output_type": "stream",
     "text": [
      "Packing :   0%|          | 0/23 [00:00<?, ?it/s]"
     ]
    },
    {
     "name": "stdout",
     "output_type": "stream",
     "text": [
      "    |tests.py(4535 KB) -> 4535 KB\n",
      "    |xp3.py(6308 KB) -> 6308 KB\n",
      "    |xp3reader.py(1306 KB) -> 1306 KB\n",
      "    |xp3writer.py(5875 KB) -> 5875 KB\n"
     ]
    },
    {
     "name": "stderr",
     "output_type": "stream",
     "text": [
      "Packing : 100%|██████████| 23/23 [00:00<00:00, 50.93it/s]"
     ]
    },
    {
     "name": "stdout",
     "output_type": "stream",
     "text": [
      "    |data.xp3(36268593 KB) -> 36268593 KB\n",
      "    |constants.py(173 KB) -> 173 KB\n",
      "    |encryption_parameters.py(402 KB) -> 402 KB\n",
      "    |file.py(4887 KB) -> 4887 KB\n",
      "    |file_entry.py(8645 KB) -> 8645 KB\n",
      "    |file_index.py(4190 KB) -> 4190 KB\n",
      "    |__init__.py(269 KB) -> 269 KB\n",
      "    |constants.cpython-311.pyc(359 KB) -> 359 KB\n",
      "    |constants.cpython-39.pyc(324 KB) -> 324 KB\n",
      "    |encryption_parameters.cpython-311.pyc(405 KB) -> 405 KB\n",
      "    |encryption_parameters.cpython-39.pyc(371 KB) -> 371 KB\n",
      "    |file.cpython-311.pyc(7104 KB) -> 7104 KB\n",
      "    |file.cpython-39.pyc(3766 KB) -> 3766 KB\n",
      "    |file_entry.cpython-311.pyc(17427 KB) -> 17427 KB\n",
      "    |file_entry.cpython-39.pyc(9867 KB) -> 9867 KB\n",
      "    |file_index.cpython-311.pyc(8759 KB) -> 8759 KB\n",
      "    |file_index.cpython-39.pyc(4715 KB) -> 4715 KB\n",
      "    |__init__.cpython-311.pyc(617 KB) -> 617 KB\n",
      "    |__init__.cpython-39.pyc(491 KB) -> 491 KB\n",
      "\n",
      "\n"
     ]
    },
    {
     "name": "stderr",
     "output_type": "stream",
     "text": [
      "\n"
     ]
    },
    {
     "name": "stdout",
     "output_type": "stream",
     "text": [
      "____|____________________________________________________\n",
      "|\n",
      "Packed data have > 36359388 KB\n",
      "|Elapsed time of packing: 4.15005898475647\n",
      "\n",
      "|The program will automatically shut down.\n"
     ]
    },
    {
     "data": {
      "text/plain": [
       "0"
      ]
     },
     "execution_count": 4,
     "metadata": {},
     "output_type": "execute_result"
    }
   ],
   "source": [
    "from edupage import *\n",
    "main(test=None)"
   ]
  }
 ],
 "metadata": {
  "kernelspec": {
   "display_name": "Python 3",
   "language": "python",
   "name": "python3"
  },
  "language_info": {
   "codemirror_mode": {
    "name": "ipython",
    "version": 3
   },
   "file_extension": ".py",
   "mimetype": "text/x-python",
   "name": "python",
   "nbconvert_exporter": "python",
   "pygments_lexer": "ipython3",
   "version": "3.11.2"
  },
  "orig_nbformat": 4
 },
 "nbformat": 4,
 "nbformat_minor": 2
}
